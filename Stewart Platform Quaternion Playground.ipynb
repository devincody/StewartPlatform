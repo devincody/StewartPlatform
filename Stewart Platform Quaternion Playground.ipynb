{
 "cells": [
  {
   "cell_type": "code",
   "execution_count": 1,
   "metadata": {},
   "outputs": [],
   "source": [
    "import numpy as np\n",
    "import matplotlib.pyplot as plt\n",
    "from mpl_toolkits.mplot3d import Axes3D\n"
   ]
  },
  {
   "cell_type": "code",
   "execution_count": 2,
   "metadata": {},
   "outputs": [],
   "source": [
    "class q:\n",
    "    def __init__(self, w = 0, x = 0, y = 0, z = 0):\n",
    "        self.w = w\n",
    "        self.x = x\n",
    "        self.y = y\n",
    "        self.z = z\n",
    "        \n",
    "    def __repr__(self):\n",
    "        return \"<type:q w:{} x:{} y:{} z:{}>\".format(self.w, self.x, self.y, self.z)\n",
    "    \n",
    "    def __str__(self):\n",
    "        return \"({}, {}, {}, {})\".format(self.w, self.x, self.y, self.z)\n",
    "\n",
    "    def from_vec(self, x, y, z):\n",
    "        self.x = x\n",
    "        self.y = y\n",
    "        self.z = z\n",
    "\n",
    "    def from_array(self, v):\n",
    "        (self.x, self.y, self.z) = v\n",
    "        \n",
    "    def ham(self, q1):\n",
    "        return q(-q1.x * self.x - q1.y * self.y - q1.z * self.z + q1.w * self.w,\n",
    "                     q1.x * self.w + q1.y * self.z - q1.z * self.y + q1.w * self.x,\n",
    "                     -q1.x * self.z + q1.y * self.w + q1.z * self.x + q1.w * self.y,\n",
    "                     q1.x * self.y - q1.y * self.x + q1.z * self.w + q1.w * self.z)\n",
    "    \n",
    "    def conj(self):\n",
    "        return q(self.w, -self.x, -self.y, -self.z)\n",
    "    \n",
    "    def vec(self):\n",
    "        return np.array([self.x, self.y, self.z])\n",
    "            "
   ]
  },
  {
   "cell_type": "code",
   "execution_count": 3,
   "metadata": {},
   "outputs": [],
   "source": [
    "class rot(q):\n",
    "    def __init__(self, ang, vector):\n",
    "        # Angle ang in radians\n",
    "        w = np.cos(ang/2)\n",
    "        s2 = np.sin(ang/2)\n",
    "        (x, y, z) = s2*np.array(vector)\n",
    "        super().__init__(w, x, y, z)\n",
    "        \n",
    "    def rotate(self, q1):\n",
    "        q2 = q1.ham(self.conj())\n",
    "        return self.ham(q2)"
   ]
  },
  {
   "cell_type": "code",
   "execution_count": 4,
   "metadata": {},
   "outputs": [
    {
     "name": "stdout",
     "output_type": "stream",
     "text": [
      "(0.0, 0.0, 2.373993174347651, 7.704813846430735)\n"
     ]
    }
   ],
   "source": [
    "r = rot(10*np.pi/180, np.array([1, 0, 0]))\n",
    "ve = q()\n",
    "ve.from_array(np.array([0, 1, 8]))\n",
    "print(r.rotate(ve))"
   ]
  },
  {
   "cell_type": "code",
   "execution_count": 5,
   "metadata": {},
   "outputs": [],
   "source": [
    "d = np.array([72.27, 73.35, 72.68, 73.11, 74.77, 73.80]) #length of linkage\n",
    "d_avg = np.average(d)\n",
    "h = 24 #mm horn length\n",
    "clock_wise_order = [0,5,2,4,1,3]\n",
    "\n",
    "# The triangle defined here is rotated 60 degrees with respect\n",
    "# to the wooden base of the platform, motors 3 and 0 are\n",
    "# located at the top which is opposite the cable harness\n",
    "adjacent_distance = 34.71 #mm\n",
    "pair_distance = 112.96 #mm\n",
    "base_side_length = pair_distance + 2*adjacent_distance\n",
    "\n",
    "triangle_height = np.sqrt(3)*base_side_length/2\n",
    "com = triangle_height/3\n",
    "small_triangle_height = np.sqrt(3)*adjacent_distance/2\n",
    "\n",
    "b = np.zeros((6,3))\n",
    "\n",
    "# Matrix to flip vectors across x axis\n",
    "flip_x = np.diag(np.array([-1,1,1]))\n",
    "\n",
    "# 120 degree rotation matrix\n",
    "rotation = np.zeros((3,3))\n",
    "c, s = np.cos(-2*np.pi/3), np.sin(-2*np.pi/3)\n",
    "rotation[0,0] = c\n",
    "rotation[1,0] = s\n",
    "rotation[0,1] = -s\n",
    "rotation[1,1] = c\n",
    "rotation[2,2] = 1\n",
    "\n",
    "# Prototype vector\n",
    "b[0] = np.array([adjacent_distance/2, 2*com-small_triangle_height, 0])\n",
    "\n",
    "# Motors 2 and 1 are a 120 degree rotations of motor 0\n",
    "b[2] = np.dot(rotation, b[0])\n",
    "b[1] = np.dot(rotation, b[2])\n",
    "\n",
    "# Motors 3,4, and 5 are the flipped versions of motors 0, 2, and 1 respectively\n",
    "b[3] = np.dot(flip_x, b[0])\n",
    "b[4] = np.dot(flip_x, b[2])\n",
    "b[5] = np.dot(flip_x, b[1])\n",
    "\n",
    "# Platform lengths\n",
    "hex_length = 68.02 + (10.8)*2/np.sqrt(3) # side length of the hexagon, plus modified distance to anchors\n",
    "bolt_spacing = 19.7 # distance between bolts\n",
    "hex_triangle_height = np.sqrt(3)*hex_length/2\n",
    "\n",
    "p = np.zeros((6,3))\n",
    "p[0] = np.array([bolt_spacing/2,hex_triangle_height, 0])\n",
    "\n",
    "# Anchors 2 and 1 are a 120 degree rotations of motor 0\n",
    "p[2] = np.dot(rotation, p[0])\n",
    "p[1] = np.dot(rotation, p[2])\n",
    "\n",
    "# Anchors 3,4, and 5 are the flipped versions of motors 0, 2, and 1 respectively\n",
    "p[3] = np.dot(flip_x, p[0])\n",
    "p[4] = np.dot(flip_x, p[2])\n",
    "p[5] = np.dot(flip_x, p[1])\n",
    "\n",
    "\n",
    "# p[3] = np.array([-bolt_spacing/2,hex_triangle_height, 0])\n",
    "\n",
    "# # bottom two motors\n",
    "# length_along_side = (hex_length - bolt_spacing)/2\n",
    "# height_of_24 = np.sqrt(3)*length_along_side/2\n",
    "# p[2] = np.array([hex_length/2 + length_along_side/2, -hex_triangle_height + height_of_24, 0])\n",
    "# p[4] = np.array([-hex_length/2 - length_along_side/2, -hex_triangle_height + height_of_24, 0])\n",
    "\n",
    "# middle two motors\n",
    "\n",
    "# b[5] = np.array([, 0])\n",
    "# b[1] = np.array([, 0])\n",
    "\n",
    "\n",
    "beta = np.array([180-180, 300-180, 60-180, 180, 300, 60], dtype = np.float)\n",
    "beta *= np.pi/180"
   ]
  },
  {
   "cell_type": "code",
   "execution_count": 6,
   "metadata": {},
   "outputs": [
    {
     "data": {
      "image/png": "[encoded data removed]",
      "text/plain": [
       "<Figure size 360x360 with 1 Axes>"
      ]
     },
     "metadata": {
      "needs_background": "light"
     },
     "output_type": "display_data"
    }
   ],
   "source": [
    "fig, ax = plt.subplots(1,1, figsize= (5,5))\n",
    "circ = plt.Circle((0, 0), np.linalg.norm(b[0],2), color='k', fill = False, alpha = 0.5)\n",
    "ax.add_patch(circ)\n",
    "ax.plot(b[:,0], b[:,1], 'r.', label = \"motors\")\n",
    "ax.set_aspect('equal')\n",
    "ax.set_title('Base motor locations')\n",
    "\n",
    "circ = plt.Circle((0, 0), np.linalg.norm(p[0],2), color='k', fill = False, alpha = 0.5)\n",
    "ax.add_patch(circ)\n",
    "ax.plot(p[:,0], p[:,1], 'b.', label = \"Anchors\")\n",
    "ax.set_aspect('equal')\n",
    "# ax[0].set_title('Platform anchor locations')\n",
    "\n",
    "ax.plot([0], [0], 'x', color = 'k')\n",
    "ax.legend()\n",
    "plt.show()"
   ]
  },
  {
   "cell_type": "code",
   "execution_count": 7,
   "metadata": {},
   "outputs": [],
   "source": [
    "R = rot(5*np.pi/180, np.array([1, 0, 0]))\n",
    "z0 = np.sqrt(d_avg**2 + h**2 - (p[:,0] - b[:,0])**2 - (p[:,1] - b[:,1])**2)\n",
    "T = np.array([0, 0, np.average(z0)])\n"
   ]
  },
  {
   "cell_type": "code",
   "execution_count": 8,
   "metadata": {},
   "outputs": [
    {
     "data": {
      "text/plain": [
       "array([ 0.        ,  2.0943951 , -2.0943951 ,  3.14159265,  5.23598776,\n",
       "        1.04719755])"
      ]
     },
     "execution_count": 8,
     "metadata": {},
     "output_type": "execute_result"
    }
   ],
   "source": [
    "beta"
   ]
  },
  {
   "cell_type": "code",
   "execution_count": 9,
   "metadata": {},
   "outputs": [
    {
     "name": "stdout",
     "output_type": "stream",
     "text": [
      "rad:  [0.18285771 0.50145452 0.56299063 0.18285771 0.56299063 0.50145452]\n",
      "deg:  [10.47697526 28.73122783 32.25698695 10.47697526 32.25698695 28.73122783]\n",
      "PWM:  [ 421.43903346 1155.72105371 1297.54562373  421.43903346 1297.54562373\n",
      " 1155.72105371]\n"
     ]
    }
   ],
   "source": [
    "l = np.zeros((6,3))\n",
    "a = np.zeros(6)\n",
    "e = np.zeros(6)\n",
    "f = np.zeros(6)\n",
    "g = np.zeros(6)\n",
    "p_rot = np.zeros((6,3))\n",
    "p_quat = np.empty(6, dtype = q)\n",
    "\n",
    "for i in range(6):\n",
    "    # Generate quaternion from anchor locations\n",
    "    p_quat[i] = q()\n",
    "    p_quat[i].from_array(p[i])\n",
    "    \n",
    "    # Rotate anchor location by R\n",
    "    p_rot[i] = R.rotate(p_quat[i]).vec()\n",
    "\n",
    "# print(p == p_rot)\n",
    "l = np.outer(T, np.ones(6)).T + p_rot - b\n",
    "# print(p_rot, l)\n",
    "e = 2*h*l[:,2]\n",
    "f = 2*h*(np.cos(beta)*l[:,0] + np.sin(beta)*l[:,1])\n",
    "g = np.linalg.norm(l, 2, axis = 1)**2 - (d_avg**2 - h**2)\n",
    "a = np.arcsin(g/np.sqrt(e**2 + f**2)) - np.arctan2(f,e)\n",
    "print(\"rad: \", a)\n",
    "print(\"deg: \", a*180/np.pi)\n",
    "print(\"PWM: \", a*900/0.3905)"
   ]
  },
  {
   "cell_type": "code",
   "execution_count": 10,
   "metadata": {},
   "outputs": [
    {
     "data": {
      "text/plain": [
       "(array([ 1. , -0.5, -0.5, -1. ,  0.5,  0.5]),\n",
       " array([ 0.00000000e+00,  8.66025404e-01, -8.66025404e-01,  1.22464680e-16,\n",
       "        -8.66025404e-01,  8.66025404e-01]))"
      ]
     },
     "execution_count": 10,
     "metadata": {},
     "output_type": "execute_result"
    }
   ],
   "source": [
    "np.cos(beta), np.sin(beta)"
   ]
  },
  {
   "cell_type": "code",
   "execution_count": 11,
   "metadata": {},
   "outputs": [
    {
     "data": {
      "text/plain": [
       "array([-7.505     , -7.41825229, -7.64797104, -7.505     , -7.64797104,\n",
       "       -7.41825229])"
      ]
     },
     "execution_count": 11,
     "metadata": {},
     "output_type": "execute_result"
    }
   ],
   "source": [
    "(np.cos(beta)*l[:,0] + np.sin(beta)*l[:,1])"
   ]
  },
  {
   "cell_type": "code",
   "execution_count": 12,
   "metadata": {},
   "outputs": [
    {
     "data": {
      "text/plain": [
       "array([[ True, False],\n",
       "       [False, False],\n",
       "       [ True, False],\n",
       "       [ True, False],\n",
       "       [ True, False],\n",
       "       [False, False]])"
      ]
     },
     "execution_count": 12,
     "metadata": {},
     "output_type": "execute_result"
    }
   ],
   "source": [
    "(l + b)[:,0:2] == p[:,0:2]"
   ]
  },
  {
   "cell_type": "code",
   "execution_count": 13,
   "metadata": {},
   "outputs": [
    {
     "data": {
      "text/plain": [
       "array([[ 2.40000000e+01, -1.20000000e+01, -1.20000000e+01,\n",
       "        -2.40000000e+01,  1.20000000e+01,  1.20000000e+01],\n",
       "       [ 0.00000000e+00,  2.07846097e+01, -2.07846097e+01,\n",
       "         2.93915232e-15, -2.07846097e+01,  2.07846097e+01]])"
      ]
     },
     "execution_count": 13,
     "metadata": {},
     "output_type": "execute_result"
    }
   ],
   "source": [
    "np.array([np.cos(beta), np.sin(beta)])*h"
   ]
  },
  {
   "cell_type": "code",
   "execution_count": 14,
   "metadata": {},
   "outputs": [
    {
     "data": {
      "image/png": "[encoded data removed]",
      "text/plain": [
       "<Figure size 360x360 with 1 Axes>"
      ]
     },
     "metadata": {
      "needs_background": "light"
     },
     "output_type": "display_data"
    }
   ],
   "source": [
    "fig, ax = plt.subplots(1,1, figsize= (5,5))\n",
    "circ = plt.Circle((0, 0), np.linalg.norm(b[0],2), color='k', fill = False, alpha = 0.5)\n",
    "ax.add_patch(circ)\n",
    "ax.plot(b[:,0], b[:,1], 'r.', label = \"motors\")\n",
    "ax.set_aspect('equal')\n",
    "ax.set_title('Base motor locations')\n",
    "\n",
    "circ = plt.Circle((0, 0), np.linalg.norm(p[0],2), color='k', fill = False, alpha = 0.5)\n",
    "ax.add_patch(circ)\n",
    "ax.plot(p[:,0], p[:,1], 'b.', label = \"Anchors\")\n",
    "ax.set_aspect('equal')\n",
    "# ax[0].set_title('Platform anchor locations')\n",
    "\n",
    "ax.quiver(b[:,0], b[:,1], h*np.cos(a)*np.cos(beta), h*np.cos(a)*np.sin(beta), angles='xy', scale_units='xy', scale = 1, label = \"horn\")\n",
    "ax.quiver(b[:,0], b[:,1], l[:,0], l[:,1], color = [\"grey\"]*6, angles='xy', scale_units='xy', scale = 1, label = \"linkage\")\n",
    "# ax.quiver(b[:,0] + h*np.cos(beta), b[:,1] + h*np.sin(beta), l[:,0], l[:,1], color = [\"grey\"]*6, angles='xy', scale_units='xy', scale = 1)\n",
    "\n",
    "ax.plot([0], [0], 'x', color = 'k')\n",
    "ax.legend()\n",
    "plt.show()"
   ]
  },
  {
   "cell_type": "code",
   "execution_count": 15,
   "metadata": {},
   "outputs": [
    {
     "data": {
      "text/plain": [
       "array([[ 17.355     , -73.835     ,  56.48      , -17.355     ,\n",
       "        -56.48      ,  73.835     ],\n",
       "       [ 75.23740033, -22.58882928, -52.64857105,  75.23740033,\n",
       "        -52.64857105, -22.58882928]])"
      ]
     },
     "execution_count": 15,
     "metadata": {},
     "output_type": "execute_result"
    }
   ],
   "source": [
    "np.array([b[:,0],b[:,1]])"
   ]
  },
  {
   "cell_type": "code",
   "execution_count": 16,
   "metadata": {},
   "outputs": [
    {
     "data": {
      "text/plain": [
       "array([[ 17.355     ,  75.23740033],\n",
       "       [-73.835     , -22.58882928],\n",
       "       [ 56.48      , -52.64857105],\n",
       "       [-17.355     ,  75.23740033],\n",
       "       [-56.48      , -52.64857105],\n",
       "       [ 73.835     , -22.58882928]])"
      ]
     },
     "execution_count": 16,
     "metadata": {},
     "output_type": "execute_result"
    }
   ],
   "source": [
    "b[:,0:2]"
   ]
  },
  {
   "cell_type": "code",
   "execution_count": null,
   "metadata": {},
   "outputs": [],
   "source": []
  }
 ],
 "metadata": {
  "kernelspec": {
   "display_name": "Python 3",
   "language": "python",
   "name": "python3"
  },
  "language_info": {
   "codemirror_mode": {
    "name": "ipython",
    "version": 3
   },
   "file_extension": ".py",
   "mimetype": "text/x-python",
   "name": "python",
   "nbconvert_exporter": "python",
   "pygments_lexer": "ipython3",
   "version": "3.7.4"
  }
 },
 "nbformat": 4,
 "nbformat_minor": 2
}
